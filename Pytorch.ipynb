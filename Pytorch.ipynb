{
  "cells": [
    {
      "cell_type": "markdown",
      "metadata": {
        "id": "view-in-github",
        "colab_type": "text"
      },
      "source": [
        "<a href=\"https://colab.research.google.com/github/ashbornarise/Machine-Learning-research/blob/main/Pytorch.ipynb\" target=\"_parent\"><img src=\"https://colab.research.google.com/assets/colab-badge.svg\" alt=\"Open In Colab\"/></a>"
      ]
    },
    {
      "cell_type": "markdown",
      "metadata": {
        "id": "E4SUUGz-mjYE"
      },
      "source": []
    },
    {
      "cell_type": "markdown",
      "metadata": {
        "id": "MM0sl-DvP1AP"
      },
      "source": [
        "https://github.com/ashbornarise/Machine-Learning-research.git"
      ]
    },
    {
      "cell_type": "markdown",
      "metadata": {
        "id": "dd8NIJGpQLNe"
      },
      "source": []
    },
    {
      "cell_type": "code",
      "execution_count": 1,
      "metadata": {
        "colab": {
          "base_uri": "https://localhost:8080/"
        },
        "id": "a9i17QRDlr35",
        "outputId": "20a6f0d2-c2fb-44c5-e1cf-42e6b4d70891"
      },
      "outputs": [
        {
          "output_type": "stream",
          "name": "stdout",
          "text": [
            " I'm exited today to learn pytorch\n"
          ]
        }
      ],
      "source": [
        "print(\" I'm exited today to learn pytorch\")"
      ]
    },
    {
      "cell_type": "code",
      "execution_count": 2,
      "metadata": {
        "colab": {
          "base_uri": "https://localhost:8080/"
        },
        "id": "EhYSPWwRmt-9",
        "outputId": "1c786642-871a-4507-9b27-be095b2cea92"
      },
      "outputs": [
        {
          "output_type": "stream",
          "name": "stdout",
          "text": [
            "/bin/bash: line 1: nvidia-smi: command not found\n"
          ]
        }
      ],
      "source": [
        "!nvidia-smi"
      ]
    },
    {
      "cell_type": "code",
      "execution_count": 3,
      "metadata": {
        "id": "caPPMXndnlmD",
        "colab": {
          "base_uri": "https://localhost:8080/"
        },
        "outputId": "209da068-e0e4-4949-bb00-7117657582a8"
      },
      "outputs": [
        {
          "output_type": "stream",
          "name": "stdout",
          "text": [
            "2.6.0+cu124\n"
          ]
        }
      ],
      "source": [
        "import torch\n",
        "import pandas as pd\n",
        "import numpy as np\n",
        "import matplotlib.pyplot as plt\n",
        "print(torch.__version__)"
      ]
    },
    {
      "cell_type": "code",
      "execution_count": 4,
      "metadata": {
        "id": "Fv2-hUE6oWdn"
      },
      "outputs": [],
      "source": [
        "## Introduction to Tensors\n",
        "### Creating tensors"
      ]
    },
    {
      "cell_type": "code",
      "execution_count": 5,
      "metadata": {
        "id": "Ez5aO-_CosQO",
        "colab": {
          "base_uri": "https://localhost:8080/"
        },
        "outputId": "3fe73eef-f571-4163-9f35-85fb5f4fea6d"
      },
      "outputs": [
        {
          "output_type": "execute_result",
          "data": {
            "text/plain": [
              "tensor(7)"
            ]
          },
          "metadata": {},
          "execution_count": 5
        }
      ],
      "source": [
        "# scalar\n",
        "scalar = torch.tensor(7)\n",
        "scalar"
      ]
    },
    {
      "cell_type": "code",
      "execution_count": 6,
      "metadata": {
        "id": "RGYJQ3mLpiwr",
        "colab": {
          "base_uri": "https://localhost:8080/"
        },
        "outputId": "b27a5dd3-41b7-4b1d-a734-003fa6e9ca80"
      },
      "outputs": [
        {
          "output_type": "execute_result",
          "data": {
            "text/plain": [
              "0"
            ]
          },
          "metadata": {},
          "execution_count": 6
        }
      ],
      "source": [
        "scalar.ndim"
      ]
    },
    {
      "cell_type": "code",
      "execution_count": 7,
      "metadata": {
        "id": "SmxGJaYHp--n",
        "colab": {
          "base_uri": "https://localhost:8080/"
        },
        "outputId": "ec3b2a9a-eb61-40bf-c837-fa13eabb8cb9"
      },
      "outputs": [
        {
          "output_type": "execute_result",
          "data": {
            "text/plain": [
              "7"
            ]
          },
          "metadata": {},
          "execution_count": 7
        }
      ],
      "source": [
        "#Get tensor back as python int\n",
        "scalar.item()"
      ]
    },
    {
      "cell_type": "code",
      "execution_count": 8,
      "metadata": {
        "id": "2X4FdzdoqbrW",
        "colab": {
          "base_uri": "https://localhost:8080/"
        },
        "outputId": "5fa47da2-5f83-4177-ce60-e0a63a5ade80"
      },
      "outputs": [
        {
          "output_type": "execute_result",
          "data": {
            "text/plain": [
              "tensor([7, 7])"
            ]
          },
          "metadata": {},
          "execution_count": 8
        }
      ],
      "source": [
        "vector = torch.tensor([7,7])\n",
        "vector"
      ]
    },
    {
      "cell_type": "code",
      "execution_count": 9,
      "metadata": {
        "id": "QUup3xHxqv2x",
        "colab": {
          "base_uri": "https://localhost:8080/"
        },
        "outputId": "88ae027d-099a-49af-d73f-c896f34202ee"
      },
      "outputs": [
        {
          "output_type": "execute_result",
          "data": {
            "text/plain": [
              "1"
            ]
          },
          "metadata": {},
          "execution_count": 9
        }
      ],
      "source": [
        "vector.ndim"
      ]
    },
    {
      "cell_type": "code",
      "execution_count": 10,
      "metadata": {
        "id": "J2JCRZxSq1Kv",
        "colab": {
          "base_uri": "https://localhost:8080/"
        },
        "outputId": "504285c0-b660-42ce-cf5e-a6bf55086fac"
      },
      "outputs": [
        {
          "output_type": "execute_result",
          "data": {
            "text/plain": [
              "torch.Size([2])"
            ]
          },
          "metadata": {},
          "execution_count": 10
        }
      ],
      "source": [
        "vector.shape"
      ]
    },
    {
      "cell_type": "code",
      "execution_count": 11,
      "metadata": {
        "id": "ktoAbpFJq5vF",
        "colab": {
          "base_uri": "https://localhost:8080/"
        },
        "outputId": "1b88ebbb-ca51-4339-9be6-680448f0e0b7"
      },
      "outputs": [
        {
          "output_type": "execute_result",
          "data": {
            "text/plain": [
              "tensor([[ 7,  8],\n",
              "        [ 9, 20]])"
            ]
          },
          "metadata": {},
          "execution_count": 11
        }
      ],
      "source": [
        "#Create a matrix\n",
        "MATRIX = torch.tensor([[7,8],\n",
        "                       [9,20]])\n",
        "MATRIX"
      ]
    },
    {
      "cell_type": "code",
      "execution_count": 12,
      "metadata": {
        "id": "wmAvLaatru9J",
        "colab": {
          "base_uri": "https://localhost:8080/"
        },
        "outputId": "cd9836b3-f83e-4a53-adba-56b52b9f9fbb"
      },
      "outputs": [
        {
          "output_type": "execute_result",
          "data": {
            "text/plain": [
              "2"
            ]
          },
          "metadata": {},
          "execution_count": 12
        }
      ],
      "source": [
        "MATRIX.ndim"
      ]
    },
    {
      "cell_type": "code",
      "execution_count": 13,
      "metadata": {
        "id": "OLFK3KcGr2TS",
        "colab": {
          "base_uri": "https://localhost:8080/"
        },
        "outputId": "c9309824-d31c-43ad-d2da-58714a06c959"
      },
      "outputs": [
        {
          "output_type": "execute_result",
          "data": {
            "text/plain": [
              "tensor([ 9, 20])"
            ]
          },
          "metadata": {},
          "execution_count": 13
        }
      ],
      "source": [
        "MATRIX[0]\n",
        "MATRIX[1]"
      ]
    },
    {
      "cell_type": "code",
      "execution_count": 14,
      "metadata": {
        "id": "P7kx9csir-b0",
        "colab": {
          "base_uri": "https://localhost:8080/"
        },
        "outputId": "ae086c80-7f56-472a-ab10-1d09027576a9"
      },
      "outputs": [
        {
          "output_type": "execute_result",
          "data": {
            "text/plain": [
              "torch.Size([2, 2])"
            ]
          },
          "metadata": {},
          "execution_count": 14
        }
      ],
      "source": [
        "MATRIX.shape"
      ]
    },
    {
      "cell_type": "code",
      "execution_count": 15,
      "metadata": {
        "id": "VYqEl1IvuhR5",
        "colab": {
          "base_uri": "https://localhost:8080/"
        },
        "outputId": "e64a3b41-d31d-46bc-9a0e-d8e8986e9114"
      },
      "outputs": [
        {
          "output_type": "execute_result",
          "data": {
            "text/plain": [
              "tensor([[[1, 2, 3],\n",
              "         [3, 6, 9],\n",
              "         [2, 4, 5]]])"
            ]
          },
          "metadata": {},
          "execution_count": 15
        }
      ],
      "source": [
        "TENSOR = torch.tensor([[[1, 2, 3],\n",
        "                        [3, 6, 9],\n",
        "                        [2, 4, 5]]])\n",
        "TENSOR"
      ]
    },
    {
      "cell_type": "code",
      "execution_count": 16,
      "metadata": {
        "id": "lfeA8c4PvECi",
        "colab": {
          "base_uri": "https://localhost:8080/"
        },
        "outputId": "2ae4dd08-edab-45aa-a69d-7d07115bf93c"
      },
      "outputs": [
        {
          "output_type": "execute_result",
          "data": {
            "text/plain": [
              "3"
            ]
          },
          "metadata": {},
          "execution_count": 16
        }
      ],
      "source": [
        "TENSOR.ndim"
      ]
    },
    {
      "cell_type": "code",
      "execution_count": 17,
      "metadata": {
        "id": "cmL24hcovSe8",
        "colab": {
          "base_uri": "https://localhost:8080/"
        },
        "outputId": "f685f459-6f0b-4f32-f27f-fa4172b6171c"
      },
      "outputs": [
        {
          "output_type": "execute_result",
          "data": {
            "text/plain": [
              "torch.Size([1, 3, 3])"
            ]
          },
          "metadata": {},
          "execution_count": 17
        }
      ],
      "source": [
        "TENSOR.shape"
      ]
    },
    {
      "cell_type": "code",
      "execution_count": 18,
      "metadata": {
        "id": "xdd2aa61vbeW",
        "colab": {
          "base_uri": "https://localhost:8080/"
        },
        "outputId": "0f652734-527b-4cae-ec17-a525a8f24251"
      },
      "outputs": [
        {
          "output_type": "execute_result",
          "data": {
            "text/plain": [
              "tensor([[1, 2, 3],\n",
              "        [3, 6, 9],\n",
              "        [2, 4, 5]])"
            ]
          },
          "metadata": {},
          "execution_count": 18
        }
      ],
      "source": [
        "TENSOR[0]"
      ]
    },
    {
      "cell_type": "markdown",
      "metadata": {
        "id": "BZw8qxI7wS9z"
      },
      "source": [
        "Random Tensors\n"
      ]
    },
    {
      "cell_type": "code",
      "execution_count": 19,
      "metadata": {
        "id": "darRGHTRvrua",
        "colab": {
          "base_uri": "https://localhost:8080/"
        },
        "outputId": "b94386c8-41af-4bda-ec87-4b93b81d56ee"
      },
      "outputs": [
        {
          "output_type": "execute_result",
          "data": {
            "text/plain": [
              "tensor([[0.7497, 0.7847, 0.5092, 0.6246],\n",
              "        [0.5779, 0.0390, 0.6545, 0.6645],\n",
              "        [0.9038, 0.7030, 0.5032, 0.3316]])"
            ]
          },
          "metadata": {},
          "execution_count": 19
        }
      ],
      "source": [
        "### Random tensors\n",
        "random_tensor = torch.rand(3, 4)\n",
        "random_tensor"
      ]
    },
    {
      "cell_type": "code",
      "execution_count": 20,
      "metadata": {
        "id": "CQe11Khsw_Bn",
        "colab": {
          "base_uri": "https://localhost:8080/"
        },
        "outputId": "32534906-596a-40c1-a82d-856baabb5d33"
      },
      "outputs": [
        {
          "output_type": "execute_result",
          "data": {
            "text/plain": [
              "2"
            ]
          },
          "metadata": {},
          "execution_count": 20
        }
      ],
      "source": [
        "random_tensor.ndim"
      ]
    },
    {
      "cell_type": "code",
      "execution_count": 21,
      "metadata": {
        "id": "ROpVl-cIxZ_c",
        "colab": {
          "base_uri": "https://localhost:8080/"
        },
        "outputId": "1d5fc25a-ea29-4c2e-dd30-41fdfe32b996"
      },
      "outputs": [
        {
          "output_type": "execute_result",
          "data": {
            "text/plain": [
              "(torch.Size([3, 224, 224]), 3)"
            ]
          },
          "metadata": {},
          "execution_count": 21
        }
      ],
      "source": [
        "random_image_size_Tensor = torch.rand(size = (3, 224, 224))\n",
        "random_image_size_Tensor.shape, random_image_size_Tensor.ndim"
      ]
    },
    {
      "cell_type": "markdown",
      "metadata": {
        "id": "C8pPyA2FyhoI"
      },
      "source": [
        "Zeroes and ones"
      ]
    },
    {
      "cell_type": "code",
      "execution_count": 22,
      "metadata": {
        "id": "kwmJCNTkybk5",
        "colab": {
          "base_uri": "https://localhost:8080/"
        },
        "outputId": "7407bdd7-1d38-43de-b31d-e574ab9a75e2"
      },
      "outputs": [
        {
          "output_type": "execute_result",
          "data": {
            "text/plain": [
              "tensor([[0.5431, 0.6604, 0.1468],\n",
              "        [0.7130, 0.2508, 0.9331],\n",
              "        [0.2820, 0.1795, 0.2596]])"
            ]
          },
          "metadata": {},
          "execution_count": 22
        }
      ],
      "source": [
        "torch.rand(3,3)"
      ]
    },
    {
      "cell_type": "code",
      "execution_count": 23,
      "metadata": {
        "id": "jzPM6VKoym1a",
        "colab": {
          "base_uri": "https://localhost:8080/"
        },
        "outputId": "da40297f-a219-4cc8-995b-df4b78319fe3"
      },
      "outputs": [
        {
          "output_type": "execute_result",
          "data": {
            "text/plain": [
              "tensor([[0., 0., 0., 0.],\n",
              "        [0., 0., 0., 0.],\n",
              "        [0., 0., 0., 0.]])"
            ]
          },
          "metadata": {},
          "execution_count": 23
        }
      ],
      "source": [
        "zeros = torch.zeros(size = (3,4))\n",
        "zeros"
      ]
    },
    {
      "cell_type": "code",
      "execution_count": 24,
      "metadata": {
        "id": "nZpWgNYnzAWQ",
        "colab": {
          "base_uri": "https://localhost:8080/"
        },
        "outputId": "f517eb81-9dd4-49e5-e78d-66ed2fd34801"
      },
      "outputs": [
        {
          "output_type": "execute_result",
          "data": {
            "text/plain": [
              "tensor([[0., 0., 0., 0.],\n",
              "        [0., 0., 0., 0.],\n",
              "        [0., 0., 0., 0.]])"
            ]
          },
          "metadata": {},
          "execution_count": 24
        }
      ],
      "source": [
        "zeros*random_tensor"
      ]
    },
    {
      "cell_type": "code",
      "execution_count": 25,
      "metadata": {
        "id": "lZhyJEzezOkp",
        "colab": {
          "base_uri": "https://localhost:8080/"
        },
        "outputId": "98c782f8-a531-486d-b48e-43796775cf29"
      },
      "outputs": [
        {
          "output_type": "execute_result",
          "data": {
            "text/plain": [
              "tensor([[1., 1., 1., 1.],\n",
              "        [1., 1., 1., 1.],\n",
              "        [1., 1., 1., 1.]])"
            ]
          },
          "metadata": {},
          "execution_count": 25
        }
      ],
      "source": [
        "ones = torch.ones(size=(3,4))\n",
        "ones"
      ]
    },
    {
      "cell_type": "code",
      "execution_count": 26,
      "metadata": {
        "id": "vnZrjVajzuvy",
        "colab": {
          "base_uri": "https://localhost:8080/"
        },
        "outputId": "b3ab47bd-aebd-4fb0-8493-efe76a5f0a66"
      },
      "outputs": [
        {
          "output_type": "execute_result",
          "data": {
            "text/plain": [
              "torch.float32"
            ]
          },
          "metadata": {},
          "execution_count": 26
        }
      ],
      "source": [
        "ones.dtype"
      ]
    },
    {
      "cell_type": "markdown",
      "metadata": {
        "id": "ycQ4I_Liz1Jt"
      },
      "source": [
        "Creating a range of tensors and tensors-like"
      ]
    },
    {
      "cell_type": "code",
      "execution_count": 27,
      "metadata": {
        "id": "1pm5LPDhz0Lp",
        "colab": {
          "base_uri": "https://localhost:8080/"
        },
        "outputId": "0fb834f5-48b3-4138-adac-a044597e15ba"
      },
      "outputs": [
        {
          "output_type": "execute_result",
          "data": {
            "text/plain": [
              "tensor([ 1,  2,  3,  4,  5,  6,  7,  8,  9, 10])"
            ]
          },
          "metadata": {},
          "execution_count": 27
        }
      ],
      "source": [
        "one_to_ten = torch.arange(start =1,end =11, step=1)\n",
        "one_to_ten"
      ]
    },
    {
      "cell_type": "code",
      "execution_count": 28,
      "metadata": {
        "id": "fAVZYBSE00pK",
        "colab": {
          "base_uri": "https://localhost:8080/"
        },
        "outputId": "1f75370b-081e-414b-91c4-9bb7874e2a18"
      },
      "outputs": [
        {
          "output_type": "execute_result",
          "data": {
            "text/plain": [
              "tensor([0, 0, 0, 0, 0, 0, 0, 0, 0, 0])"
            ]
          },
          "metadata": {},
          "execution_count": 28
        }
      ],
      "source": [
        "ten_zeros = torch.zeros_like(one_to_ten)\n",
        "ten_zeros"
      ]
    },
    {
      "cell_type": "markdown",
      "metadata": {
        "id": "zwL-dzdf1iAX"
      },
      "source": [
        "Tensors datatypes"
      ]
    },
    {
      "cell_type": "code",
      "execution_count": 29,
      "metadata": {
        "id": "zuehKAoq1e75",
        "colab": {
          "base_uri": "https://localhost:8080/"
        },
        "outputId": "774073e1-1c58-4fd1-d60e-4064ac52a7e5"
      },
      "outputs": [
        {
          "output_type": "execute_result",
          "data": {
            "text/plain": [
              "tensor([3., 6., 9.])"
            ]
          },
          "metadata": {},
          "execution_count": 29
        }
      ],
      "source": [
        "float_32_tensor = torch.tensor([3.0, 6.0, 9.0],\n",
        "                               dtype = None,\n",
        "                               device = None,\n",
        "                               requires_grad = False)\n",
        "float_32_tensor"
      ]
    },
    {
      "cell_type": "code",
      "execution_count": 30,
      "metadata": {
        "id": "aCaXuDKrRPMp",
        "colab": {
          "base_uri": "https://localhost:8080/"
        },
        "outputId": "6c4cdd81-2b30-4cca-b4f3-0ea3e497a532"
      },
      "outputs": [
        {
          "output_type": "execute_result",
          "data": {
            "text/plain": [
              "tensor([[0.9342, 0.9510, 0.8876, 0.4113],\n",
              "        [0.9233, 0.5475, 0.0414, 0.2338],\n",
              "        [0.1769, 0.0246, 0.3795, 0.6015]])"
            ]
          },
          "metadata": {},
          "execution_count": 30
        }
      ],
      "source": [
        "some_tensor = torch.rand(3, 4)\n",
        "some_tensor"
      ]
    },
    {
      "cell_type": "code",
      "execution_count": 31,
      "metadata": {
        "id": "1jtW77U62hlf",
        "colab": {
          "base_uri": "https://localhost:8080/"
        },
        "outputId": "7399fa2b-f105-4b18-9993-c34700724ed7"
      },
      "outputs": [
        {
          "output_type": "execute_result",
          "data": {
            "text/plain": [
              "(<function Tensor.size>, torch.Size([3, 4]))"
            ]
          },
          "metadata": {},
          "execution_count": 31
        }
      ],
      "source": [
        "some_tensor.size, some_tensor.shape"
      ]
    },
    {
      "cell_type": "code",
      "execution_count": 32,
      "metadata": {
        "id": "oMYHXYwM2tzW",
        "colab": {
          "base_uri": "https://localhost:8080/"
        },
        "outputId": "41301f18-5d19-4d5a-ca2c-3536b445bc61"
      },
      "outputs": [
        {
          "output_type": "execute_result",
          "data": {
            "text/plain": [
              "torch.Size([3, 4])"
            ]
          },
          "metadata": {},
          "execution_count": 32
        }
      ],
      "source": [
        "some_tensor.size()"
      ]
    },
    {
      "cell_type": "markdown",
      "metadata": {
        "id": "sHE5ziL1puy2"
      },
      "source": []
    },
    {
      "cell_type": "code",
      "execution_count": 33,
      "metadata": {
        "id": "pyAmPBE5puR4",
        "colab": {
          "base_uri": "https://localhost:8080/"
        },
        "outputId": "68a1b85d-b1c9-4aeb-8ca1-7c2475cd1573"
      },
      "outputs": [
        {
          "output_type": "stream",
          "name": "stdout",
          "text": [
            "tensor([[0.9342, 0.9510, 0.8876, 0.4113],\n",
            "        [0.9233, 0.5475, 0.0414, 0.2338],\n",
            "        [0.1769, 0.0246, 0.3795, 0.6015]])\n",
            "Datatype of tensor: torch.float32\n",
            "Shape of tensor: <built-in method size of Tensor object at 0x7fcd369e8290>\n",
            "Device tensor is on: cpu\n"
          ]
        }
      ],
      "source": [
        "print(some_tensor)\n",
        "print(f\"Datatype of tensor: {some_tensor.dtype}\")\n",
        "print(f\"Shape of tensor: {some_tensor.size}\")\n",
        "print(f\"Device tensor is on: {some_tensor.device}\")"
      ]
    },
    {
      "cell_type": "markdown",
      "metadata": {
        "id": "z-Yfh6cQ3PXW"
      },
      "source": [
        "Manipulation Tensors(tensor operations)"
      ]
    },
    {
      "cell_type": "code",
      "execution_count": 34,
      "metadata": {
        "id": "KloT9Ydj3OK_",
        "colab": {
          "base_uri": "https://localhost:8080/"
        },
        "outputId": "0426a081-51ad-4462-b874-40d09d21e0a2"
      },
      "outputs": [
        {
          "output_type": "execute_result",
          "data": {
            "text/plain": [
              "tensor([11, 12, 13])"
            ]
          },
          "metadata": {},
          "execution_count": 34
        }
      ],
      "source": [
        "tensor = torch.tensor([1, 2, 3])\n",
        "tensor + 10"
      ]
    },
    {
      "cell_type": "code",
      "execution_count": 35,
      "metadata": {
        "id": "psU1RpH43wiT",
        "colab": {
          "base_uri": "https://localhost:8080/"
        },
        "outputId": "cbb7dfcf-9f91-4922-897e-3773fc388a94"
      },
      "outputs": [
        {
          "output_type": "execute_result",
          "data": {
            "text/plain": [
              "tensor([10, 20, 30])"
            ]
          },
          "metadata": {},
          "execution_count": 35
        }
      ],
      "source": [
        "tensor * 10"
      ]
    },
    {
      "cell_type": "code",
      "execution_count": 36,
      "metadata": {
        "id": "5Sj8YkXp4Blq",
        "colab": {
          "base_uri": "https://localhost:8080/"
        },
        "outputId": "05e66a1d-b712-4250-a1f5-3d8c3a85e333"
      },
      "outputs": [
        {
          "output_type": "execute_result",
          "data": {
            "text/plain": [
              "tensor([-9, -8, -7])"
            ]
          },
          "metadata": {},
          "execution_count": 36
        }
      ],
      "source": [
        "tensor - 10"
      ]
    },
    {
      "cell_type": "code",
      "execution_count": 37,
      "metadata": {
        "id": "6iN3hvtY4N1U",
        "colab": {
          "base_uri": "https://localhost:8080/"
        },
        "outputId": "c4043a78-2b96-40c0-c10b-965ac48248be"
      },
      "outputs": [
        {
          "output_type": "execute_result",
          "data": {
            "text/plain": [
              "tensor([10, 20, 30])"
            ]
          },
          "metadata": {},
          "execution_count": 37
        }
      ],
      "source": [
        "torch.mul(tensor, 10)"
      ]
    },
    {
      "cell_type": "code",
      "execution_count": 38,
      "metadata": {
        "id": "ToGzUv164YEa",
        "colab": {
          "base_uri": "https://localhost:8080/"
        },
        "outputId": "c5a6d805-adb5-46a6-d2d7-ba4685d9d163"
      },
      "outputs": [
        {
          "output_type": "execute_result",
          "data": {
            "text/plain": [
              "tensor([11, 12, 13])"
            ]
          },
          "metadata": {},
          "execution_count": 38
        }
      ],
      "source": [
        "torch.add(tensor, 10)"
      ]
    },
    {
      "cell_type": "markdown",
      "metadata": {
        "id": "3mVZNelo5j4n"
      },
      "source": [
        "Multiplication with a tensor"
      ]
    },
    {
      "cell_type": "code",
      "execution_count": 39,
      "metadata": {
        "id": "FxkGECdq4zFS",
        "colab": {
          "base_uri": "https://localhost:8080/"
        },
        "outputId": "c6b6249c-fb5f-4b6b-bb2d-a1885ace868e"
      },
      "outputs": [
        {
          "output_type": "execute_result",
          "data": {
            "text/plain": [
              "tensor([1, 4, 9])"
            ]
          },
          "metadata": {},
          "execution_count": 39
        }
      ],
      "source": [
        "tensor * tensor"
      ]
    },
    {
      "cell_type": "code",
      "execution_count": 40,
      "metadata": {
        "id": "G1VFfSyK5E6w",
        "colab": {
          "base_uri": "https://localhost:8080/"
        },
        "outputId": "250a9a9a-2635-4e9d-f6fd-05932d7e4613"
      },
      "outputs": [
        {
          "output_type": "stream",
          "name": "stdout",
          "text": [
            "tensor([1, 2, 3]) * tensor([1, 2, 3])\n",
            "Equals:tensor([1, 4, 9])\n"
          ]
        }
      ],
      "source": [
        "print(tensor, \"*\", tensor)\n",
        "print(f\"Equals:{tensor*tensor}\")"
      ]
    },
    {
      "cell_type": "code",
      "execution_count": 41,
      "metadata": {
        "id": "tr7u_bzD5bPn",
        "colab": {
          "base_uri": "https://localhost:8080/"
        },
        "outputId": "de2e881b-8796-4be0-c6ec-f7cefddd7437"
      },
      "outputs": [
        {
          "output_type": "execute_result",
          "data": {
            "text/plain": [
              "tensor(14)"
            ]
          },
          "metadata": {},
          "execution_count": 41
        }
      ],
      "source": [
        "torch.matmul(tensor, tensor)"
      ]
    },
    {
      "cell_type": "code",
      "execution_count": 42,
      "metadata": {
        "id": "SUS8_lHV5qPX",
        "colab": {
          "base_uri": "https://localhost:8080/"
        },
        "outputId": "d339b7fe-3eaf-43ad-d64a-ca9061fc9bf4"
      },
      "outputs": [
        {
          "output_type": "stream",
          "name": "stdout",
          "text": [
            "tensor(14)\n",
            "CPU times: user 1.76 ms, sys: 0 ns, total: 1.76 ms\n",
            "Wall time: 3.19 ms\n"
          ]
        }
      ],
      "source": [
        "%%time\n",
        "value = 0\n",
        "for i in range(len(tensor)):\n",
        "  value += tensor[i] * tensor[i]\n",
        "\n",
        "print(value)"
      ]
    },
    {
      "cell_type": "code",
      "execution_count": 43,
      "metadata": {
        "id": "JlrWb0Dw6P_i",
        "colab": {
          "base_uri": "https://localhost:8080/"
        },
        "outputId": "4a2aebc1-5dda-4948-aa52-3299df0d707c"
      },
      "outputs": [
        {
          "output_type": "stream",
          "name": "stdout",
          "text": [
            "Original shapes: tensor_A = torch.Size([3, 2]), tensor_B = torch.Size([3, 2])\n",
            "New shapes: tensor_A = torch.Size([3, 2])(Same shape as above),tensor_B.T = torch.Size([2, 3])\n",
            "Multipliying:torch.Size([3, 2]) @ torch.Size([2, 3])<- inner dimensions must match\n",
            "Output:\n",
            "\n",
            "tensor([[ 25,  30,  33],\n",
            "        [ 57,  68,  75],\n",
            "        [ 89, 106, 117]])\n",
            "\n",
            "Output shape: torch.Size([3, 3])\n"
          ]
        }
      ],
      "source": [
        "tensor_A = torch.tensor([[1, 2],\n",
        "                         [3, 4],\n",
        "                         [5, 6]])\n",
        "\n",
        "tensor_B = torch.tensor([[7, 9],\n",
        "                         [8, 11],\n",
        "                         [9, 12]])\n",
        "\n",
        "print(f\"Original shapes: tensor_A = {tensor_A.shape}, tensor_B = {tensor_B.shape}\")\n",
        "print(f\"New shapes: tensor_A = {tensor_A.shape}(Same shape as above),tensor_B.T = {tensor_B.T.shape}\")\n",
        "print(f\"Multipliying:{tensor_A.shape} @ {tensor_B.T.shape}<- inner dimensions must match\")\n",
        "print(\"Output:\\n\")\n",
        "output = torch.matmul(tensor_A, tensor_B.T)\n",
        "print(output)\n",
        "print(f\"\\nOutput shape: {output.shape}\")"
      ]
    },
    {
      "cell_type": "code",
      "execution_count": 44,
      "metadata": {
        "id": "C6-MSiaf_xxN",
        "colab": {
          "base_uri": "https://localhost:8080/"
        },
        "outputId": "7f3ca19d-7fe5-4a02-d3d6-18d5f814896a"
      },
      "outputs": [
        {
          "output_type": "execute_result",
          "data": {
            "text/plain": [
              "(torch.Size([3, 2]), torch.Size([3, 2]))"
            ]
          },
          "metadata": {},
          "execution_count": 44
        }
      ],
      "source": [
        "tensor_A.shape, tensor_B.shape"
      ]
    },
    {
      "cell_type": "code",
      "execution_count": 45,
      "metadata": {
        "id": "7Xi9Cvel_9Ls",
        "colab": {
          "base_uri": "https://localhost:8080/"
        },
        "outputId": "ee9fb9f8-f2a8-45ea-93e6-449be7f5eec3"
      },
      "outputs": [
        {
          "output_type": "execute_result",
          "data": {
            "text/plain": [
              "tensor([[ 7,  8,  9],\n",
              "        [ 9, 11, 12]])"
            ]
          },
          "metadata": {},
          "execution_count": 45
        }
      ],
      "source": [
        "tensor_B.T"
      ]
    },
    {
      "cell_type": "markdown",
      "metadata": {
        "id": "AjV9nXdwDfXX"
      },
      "source": [
        "Finding min, max, mean, sum, etc(tensor Agrregation)"
      ]
    },
    {
      "cell_type": "code",
      "execution_count": 46,
      "metadata": {
        "id": "X--g9m3qAgC4",
        "colab": {
          "base_uri": "https://localhost:8080/"
        },
        "outputId": "9d3a222d-296b-44c6-aac2-00a1755ee02d"
      },
      "outputs": [
        {
          "output_type": "execute_result",
          "data": {
            "text/plain": [
              "(tensor([ 0, 10, 20, 30, 40, 50, 60, 70, 80, 90]), torch.int64)"
            ]
          },
          "metadata": {},
          "execution_count": 46
        }
      ],
      "source": [
        "x = torch.arange(0, 100, 10)\n",
        "x\n",
        "x, x.dtype"
      ]
    },
    {
      "cell_type": "code",
      "execution_count": 47,
      "metadata": {
        "id": "hMc___I5Dyvw",
        "colab": {
          "base_uri": "https://localhost:8080/"
        },
        "outputId": "80ecf07b-72ca-43b1-b13c-14f8c8783e12"
      },
      "outputs": [
        {
          "output_type": "execute_result",
          "data": {
            "text/plain": [
              "(tensor(0), tensor(0))"
            ]
          },
          "metadata": {},
          "execution_count": 47
        }
      ],
      "source": [
        "torch.min(x), x.min()\n"
      ]
    },
    {
      "cell_type": "code",
      "execution_count": 48,
      "metadata": {
        "id": "yucZNpUcEDTs",
        "colab": {
          "base_uri": "https://localhost:8080/"
        },
        "outputId": "6b436527-634c-4a13-e53c-9d111eb0e66d"
      },
      "outputs": [
        {
          "output_type": "execute_result",
          "data": {
            "text/plain": [
              "(tensor(90), tensor(90))"
            ]
          },
          "metadata": {},
          "execution_count": 48
        }
      ],
      "source": [
        "torch.max(x), x.max()"
      ]
    },
    {
      "cell_type": "code",
      "execution_count": 49,
      "metadata": {
        "id": "5i0UB44LEJ00",
        "colab": {
          "base_uri": "https://localhost:8080/"
        },
        "outputId": "a484edbf-c72a-43d6-fbca-4f467696192d"
      },
      "outputs": [
        {
          "output_type": "execute_result",
          "data": {
            "text/plain": [
              "(tensor(45.), tensor(45.))"
            ]
          },
          "metadata": {},
          "execution_count": 49
        }
      ],
      "source": [
        "torch.mean(x.type(torch.float32)),x.type(torch.float32).mean()"
      ]
    },
    {
      "cell_type": "code",
      "execution_count": 50,
      "metadata": {
        "id": "2HFFTxvCFRvG",
        "colab": {
          "base_uri": "https://localhost:8080/"
        },
        "outputId": "bc2fdb0f-4532-4861-eb76-bee7dc5b6230"
      },
      "outputs": [
        {
          "output_type": "execute_result",
          "data": {
            "text/plain": [
              "(tensor(450), tensor(450))"
            ]
          },
          "metadata": {},
          "execution_count": 50
        }
      ],
      "source": [
        "torch.sum(x), x.sum()"
      ]
    },
    {
      "cell_type": "code",
      "execution_count": 51,
      "metadata": {
        "id": "7BlRMyBpFzUo",
        "colab": {
          "base_uri": "https://localhost:8080/"
        },
        "outputId": "0d27565b-a8f3-4ef2-fef4-3930c78f80ea"
      },
      "outputs": [
        {
          "output_type": "execute_result",
          "data": {
            "text/plain": [
              "tensor(0)"
            ]
          },
          "metadata": {},
          "execution_count": 51
        }
      ],
      "source": [
        "x.argmin()"
      ]
    },
    {
      "cell_type": "code",
      "execution_count": 52,
      "metadata": {
        "id": "ZW14MqokF4Qr",
        "colab": {
          "base_uri": "https://localhost:8080/"
        },
        "outputId": "be606f25-c04d-4406-9cd1-9be55278be36"
      },
      "outputs": [
        {
          "output_type": "execute_result",
          "data": {
            "text/plain": [
              "tensor(9)"
            ]
          },
          "metadata": {},
          "execution_count": 52
        }
      ],
      "source": [
        "x.argmax()"
      ]
    },
    {
      "cell_type": "markdown",
      "metadata": {
        "id": "iiijvnyhjj-m"
      },
      "source": [
        "Reshaping, stacking, sqeezing and unsquezing tensors"
      ]
    },
    {
      "cell_type": "code",
      "execution_count": 53,
      "metadata": {
        "id": "XxGQ7fXcjZ6K",
        "colab": {
          "base_uri": "https://localhost:8080/"
        },
        "outputId": "f59839e0-6913-4ea1-f680-3cc5d8551548"
      },
      "outputs": [
        {
          "output_type": "execute_result",
          "data": {
            "text/plain": [
              "(tensor([1., 2., 3., 4., 5., 6., 7., 8., 9.]), torch.Size([9]))"
            ]
          },
          "metadata": {},
          "execution_count": 53
        }
      ],
      "source": [
        "import torch\n",
        "x = torch.arange(1., 10.)\n",
        "x, x.shape"
      ]
    },
    {
      "cell_type": "code",
      "execution_count": 54,
      "metadata": {
        "id": "fcP-ciq7lLnK",
        "colab": {
          "base_uri": "https://localhost:8080/"
        },
        "outputId": "2723ce27-6531-435b-8010-d9792c8b8047"
      },
      "outputs": [
        {
          "output_type": "execute_result",
          "data": {
            "text/plain": [
              "(tensor([[1.],\n",
              "         [2.],\n",
              "         [3.],\n",
              "         [4.],\n",
              "         [5.],\n",
              "         [6.],\n",
              "         [7.],\n",
              "         [8.],\n",
              "         [9.]]),\n",
              " torch.Size([9, 1]))"
            ]
          },
          "metadata": {},
          "execution_count": 54
        }
      ],
      "source": [
        "x_reshaped = x.reshape(9, 1)\n",
        "x_reshaped, x_reshaped.shape"
      ]
    },
    {
      "cell_type": "code",
      "execution_count": 55,
      "metadata": {
        "id": "L4yIQYWxoqOW",
        "colab": {
          "base_uri": "https://localhost:8080/"
        },
        "outputId": "74d6e3a0-4b9a-48b9-9d07-6a776c74f6eb"
      },
      "outputs": [
        {
          "output_type": "execute_result",
          "data": {
            "text/plain": [
              "(tensor([[1., 2., 3., 4., 5., 6., 7., 8., 9.]]), torch.Size([1, 9]))"
            ]
          },
          "metadata": {},
          "execution_count": 55
        }
      ],
      "source": [
        "z = x.view(1, 9)\n",
        "z, z.shape"
      ]
    },
    {
      "cell_type": "code",
      "execution_count": 56,
      "metadata": {
        "id": "yxYQsMDBo3cg",
        "colab": {
          "base_uri": "https://localhost:8080/"
        },
        "outputId": "f5ce4437-a9a8-4ea0-9940-974774fd1f84"
      },
      "outputs": [
        {
          "output_type": "execute_result",
          "data": {
            "text/plain": [
              "(tensor([[5., 2., 3., 4., 5., 6., 7., 8., 9.]]),\n",
              " tensor([5., 2., 3., 4., 5., 6., 7., 8., 9.]))"
            ]
          },
          "metadata": {},
          "execution_count": 56
        }
      ],
      "source": [
        "z[:, 0] = 5\n",
        "z, x"
      ]
    },
    {
      "cell_type": "code",
      "execution_count": 57,
      "metadata": {
        "id": "vkrHzhzLq1F0",
        "colab": {
          "base_uri": "https://localhost:8080/"
        },
        "outputId": "e2f2911e-6dbb-4e59-dcae-d64fab4d601a"
      },
      "outputs": [
        {
          "output_type": "execute_result",
          "data": {
            "text/plain": [
              "tensor([[5., 2., 3., 4., 5., 6., 7., 8., 9.],\n",
              "        [5., 2., 3., 4., 5., 6., 7., 8., 9.],\n",
              "        [5., 2., 3., 4., 5., 6., 7., 8., 9.],\n",
              "        [5., 2., 3., 4., 5., 6., 7., 8., 9.]])"
            ]
          },
          "metadata": {},
          "execution_count": 57
        }
      ],
      "source": [
        "x_stacked = torch.stack([x, x, x, x], dim = 0)\n",
        "x_stacked"
      ]
    },
    {
      "cell_type": "code",
      "execution_count": 58,
      "metadata": {
        "id": "BhNTc6QEsSvv",
        "colab": {
          "base_uri": "https://localhost:8080/"
        },
        "outputId": "b65d6b3f-0083-454b-f5b2-cb79cc061b03"
      },
      "outputs": [
        {
          "output_type": "execute_result",
          "data": {
            "text/plain": [
              "tensor([5., 2., 3., 4., 5., 6., 7., 8., 9.])"
            ]
          },
          "metadata": {},
          "execution_count": 58
        }
      ],
      "source": [
        "x_reshaped.squeeze()"
      ]
    },
    {
      "cell_type": "code",
      "execution_count": 59,
      "metadata": {
        "id": "aY-utB6DsR1I",
        "colab": {
          "base_uri": "https://localhost:8080/"
        },
        "outputId": "489860fc-855a-4d83-8f89-2f88391004b7"
      },
      "outputs": [
        {
          "output_type": "stream",
          "name": "stdout",
          "text": [
            "Previous target: tensor([5., 2., 3., 4., 5., 6., 7., 8., 9.])\n",
            "Previous shape: torch.Size([9])\n",
            "\n",
            "New tensor: tensor([[5., 2., 3., 4., 5., 6., 7., 8., 9.]])\n",
            "New shape: torch.Size([1, 9])\n"
          ]
        }
      ],
      "source": [
        "print(f\"Previous target: {x_reshaped.squeeze()}\")\n",
        "print(f\"Previous shape: {x_reshaped.squeeze().shape}\")\n",
        "\n",
        "\n",
        "x_unsqueezed = x_reshaped.squeeze().unsqueeze(dim = 0)\n",
        "print(f\"\\nNew tensor: {x_unsqueezed}\")\n",
        "print(f\"New shape: {x_unsqueezed.shape}\")"
      ]
    },
    {
      "cell_type": "code",
      "execution_count": 60,
      "metadata": {
        "id": "sOZBPLv7ty6m",
        "colab": {
          "base_uri": "https://localhost:8080/"
        },
        "outputId": "6f003487-33df-49e0-9ef5-feb91329c534"
      },
      "outputs": [
        {
          "output_type": "stream",
          "name": "stdout",
          "text": [
            "Previous shape: torch.Size([224, 224, 3])\n",
            "New shape: torch.Size([3, 224, 224])\n"
          ]
        }
      ],
      "source": [
        "x_original = torch.rand(size = (224, 224, 3))\n",
        "\n",
        "x_permuted = x_original.permute(2, 0, 1)\n",
        "\n",
        "print(f\"Previous shape: {x_original.shape}\")\n",
        "print(f\"New shape: {x_permuted.shape}\")"
      ]
    },
    {
      "cell_type": "code",
      "execution_count": 61,
      "metadata": {
        "id": "hOr4HLVqupwt",
        "colab": {
          "base_uri": "https://localhost:8080/"
        },
        "outputId": "958186c4-aa4b-4e4a-ac85-1a743eb42a7d"
      },
      "outputs": [
        {
          "output_type": "execute_result",
          "data": {
            "text/plain": [
              "(tensor(0.7915), tensor(0.7915))"
            ]
          },
          "metadata": {},
          "execution_count": 61
        }
      ],
      "source": [
        "x_original[0, 0, 0], x_permuted[0, 0, 0]"
      ]
    },
    {
      "cell_type": "markdown",
      "metadata": {
        "id": "sKfi1z_qvL-2"
      },
      "source": [
        "Indexing(Selecting Data from tensors)\n"
      ]
    },
    {
      "cell_type": "code",
      "execution_count": 62,
      "metadata": {
        "id": "A1lfT6KovH9m",
        "colab": {
          "base_uri": "https://localhost:8080/"
        },
        "outputId": "745c52a6-eb9b-454f-c3fc-8037e0323314"
      },
      "outputs": [
        {
          "output_type": "execute_result",
          "data": {
            "text/plain": [
              "(tensor([[[1, 2, 3],\n",
              "          [4, 5, 6],\n",
              "          [7, 8, 9]]]),\n",
              " torch.Size([1, 3, 3]))"
            ]
          },
          "metadata": {},
          "execution_count": 62
        }
      ],
      "source": [
        "import torch\n",
        "x = torch.arange(1, 10).reshape(1, 3, 3)\n",
        "x, x.shape"
      ]
    },
    {
      "cell_type": "code",
      "execution_count": 63,
      "metadata": {
        "id": "d9dZxfdTvH64",
        "colab": {
          "base_uri": "https://localhost:8080/"
        },
        "outputId": "d314dacd-2866-4300-bf53-f7aa58fa9437"
      },
      "outputs": [
        {
          "output_type": "execute_result",
          "data": {
            "text/plain": [
              "tensor([[1, 2, 3],\n",
              "        [4, 5, 6],\n",
              "        [7, 8, 9]])"
            ]
          },
          "metadata": {},
          "execution_count": 63
        }
      ],
      "source": [
        "x[0]"
      ]
    },
    {
      "cell_type": "code",
      "execution_count": 64,
      "metadata": {
        "id": "OXv2moKzvl88",
        "colab": {
          "base_uri": "https://localhost:8080/"
        },
        "outputId": "9131bcb8-2a06-414f-8a24-09dee8d2adc9"
      },
      "outputs": [
        {
          "output_type": "execute_result",
          "data": {
            "text/plain": [
              "tensor([1, 2, 3])"
            ]
          },
          "metadata": {},
          "execution_count": 64
        }
      ],
      "source": [
        "x[0][0]"
      ]
    },
    {
      "cell_type": "code",
      "execution_count": 65,
      "metadata": {
        "id": "XsN1rhB6vy5b",
        "colab": {
          "base_uri": "https://localhost:8080/"
        },
        "outputId": "6cb47a73-228c-47c2-dea3-ecd3eed2f38d"
      },
      "outputs": [
        {
          "output_type": "execute_result",
          "data": {
            "text/plain": [
              "tensor(5)"
            ]
          },
          "metadata": {},
          "execution_count": 65
        }
      ],
      "source": [
        "x[0][1][1]"
      ]
    },
    {
      "cell_type": "code",
      "execution_count": 66,
      "metadata": {
        "id": "WDJ6i4zxwM5p",
        "colab": {
          "base_uri": "https://localhost:8080/"
        },
        "outputId": "80bd5d42-bb5e-462c-cd5b-c744dcd6e0a4"
      },
      "outputs": [
        {
          "output_type": "execute_result",
          "data": {
            "text/plain": [
              "tensor([[1, 2, 3]])"
            ]
          },
          "metadata": {},
          "execution_count": 66
        }
      ],
      "source": [
        "x[:, 0]"
      ]
    },
    {
      "cell_type": "code",
      "execution_count": 67,
      "metadata": {
        "id": "0zl21d1Bwpx4",
        "colab": {
          "base_uri": "https://localhost:8080/"
        },
        "outputId": "b0b6d8b9-12cf-4735-cef1-a9144673cb93"
      },
      "outputs": [
        {
          "output_type": "execute_result",
          "data": {
            "text/plain": [
              "tensor([[2, 5, 8]])"
            ]
          },
          "metadata": {},
          "execution_count": 67
        }
      ],
      "source": [
        "x[:, :, 1]"
      ]
    },
    {
      "cell_type": "code",
      "execution_count": 68,
      "metadata": {
        "id": "kUkehYjFwpuW",
        "colab": {
          "base_uri": "https://localhost:8080/"
        },
        "outputId": "e0c5bf7f-489f-4528-99ce-ce2fb083122d"
      },
      "outputs": [
        {
          "output_type": "execute_result",
          "data": {
            "text/plain": [
              "tensor([1, 2, 3])"
            ]
          },
          "metadata": {},
          "execution_count": 68
        }
      ],
      "source": [
        "x[0, 0, :]"
      ]
    },
    {
      "cell_type": "markdown",
      "metadata": {
        "id": "SlBYlpylxFgQ"
      },
      "source": [
        "Pytorch and Numpy"
      ]
    },
    {
      "cell_type": "code",
      "execution_count": 69,
      "metadata": {
        "id": "TIBc_3TkxEpJ",
        "colab": {
          "base_uri": "https://localhost:8080/"
        },
        "outputId": "84ea86c6-d9f1-4176-b862-8fdba207080a"
      },
      "outputs": [
        {
          "output_type": "execute_result",
          "data": {
            "text/plain": [
              "(array([1., 2., 3., 4., 5., 6., 7.]),\n",
              " tensor([1., 2., 3., 4., 5., 6., 7.], dtype=torch.float64))"
            ]
          },
          "metadata": {},
          "execution_count": 69
        }
      ],
      "source": [
        "import torch\n",
        "import numpy as np\n",
        "\n",
        "array = np.arange(1.0, 8.0)\n",
        "tensor = torch.from_numpy(array)\n",
        "array, tensor"
      ]
    },
    {
      "cell_type": "code",
      "execution_count": 70,
      "metadata": {
        "id": "mA4b_OCTxwo-",
        "colab": {
          "base_uri": "https://localhost:8080/"
        },
        "outputId": "c82ffddb-f365-4590-feff-53e6c607bf9b"
      },
      "outputs": [
        {
          "output_type": "execute_result",
          "data": {
            "text/plain": [
              "dtype('float64')"
            ]
          },
          "metadata": {},
          "execution_count": 70
        }
      ],
      "source": [
        "array.dtype"
      ]
    },
    {
      "cell_type": "code",
      "execution_count": 71,
      "metadata": {
        "id": "ef6o-dOtxxbb",
        "colab": {
          "base_uri": "https://localhost:8080/"
        },
        "outputId": "8346d0cd-44a8-4d0f-9137-c432e5522bc9"
      },
      "outputs": [
        {
          "output_type": "execute_result",
          "data": {
            "text/plain": [
              "torch.float32"
            ]
          },
          "metadata": {},
          "execution_count": 71
        }
      ],
      "source": [
        "torch.arange(1.0, 8.0).dtype"
      ]
    },
    {
      "cell_type": "code",
      "execution_count": 72,
      "metadata": {
        "id": "Byf8xfDyytCP",
        "colab": {
          "base_uri": "https://localhost:8080/"
        },
        "outputId": "54d520ec-aa7d-4738-c61e-e052c53bbf81"
      },
      "outputs": [
        {
          "output_type": "execute_result",
          "data": {
            "text/plain": [
              "(array([2., 3., 4., 5., 6., 7., 8.]),\n",
              " tensor([1., 2., 3., 4., 5., 6., 7.], dtype=torch.float64))"
            ]
          },
          "metadata": {},
          "execution_count": 72
        }
      ],
      "source": [
        "array = array + 1\n",
        "array, tensor"
      ]
    },
    {
      "cell_type": "code",
      "execution_count": 73,
      "metadata": {
        "id": "V_UQPL9hy6HR",
        "colab": {
          "base_uri": "https://localhost:8080/"
        },
        "outputId": "f99c084f-55be-407a-e49b-b41d0c3299ee"
      },
      "outputs": [
        {
          "output_type": "execute_result",
          "data": {
            "text/plain": [
              "(tensor([1., 1., 1., 1., 1., 1., 1.]),\n",
              " array([1., 1., 1., 1., 1., 1., 1.], dtype=float32))"
            ]
          },
          "metadata": {},
          "execution_count": 73
        }
      ],
      "source": [
        "tensor = torch.ones(7)\n",
        "numpy_tensor = tensor.numpy()\n",
        "tensor, numpy_tensor"
      ]
    },
    {
      "cell_type": "code",
      "execution_count": 1,
      "metadata": {
        "id": "anxgnr9snv7_",
        "colab": {
          "base_uri": "https://localhost:8080/"
        },
        "outputId": "581e6cd5-f5ce-4ffc-a86f-422dfcc91eec"
      },
      "outputs": [
        {
          "output_type": "stream",
          "name": "stdout",
          "text": [
            "tensor([[0.0839, 0.4411, 0.9149, 0.3164],\n",
            "        [0.6863, 0.1630, 0.8880, 0.8520],\n",
            "        [0.4963, 0.9302, 0.6964, 0.3730]])\n",
            "tensor([[0.3054, 0.6475, 0.6290, 0.2859],\n",
            "        [0.7142, 0.1151, 0.9209, 0.9762],\n",
            "        [0.3897, 0.7422, 0.4061, 0.2614]])\n",
            "tensor([[False, False, False, False],\n",
            "        [False, False, False, False],\n",
            "        [False, False, False, False]])\n"
          ]
        },
        {
          "output_type": "execute_result",
          "data": {
            "text/plain": [
              "tensor([[0.2736, 0.3593, 0.4236],\n",
              "        [0.7302, 0.8827, 0.6930],\n",
              "        [0.2602, 0.4367, 0.2868]])"
            ]
          },
          "metadata": {},
          "execution_count": 1
        }
      ],
      "source": [
        "import torch\n",
        "\n",
        "random_tensor_A  = torch.rand(3, 4)\n",
        "random_tensor_B  = torch.rand(3, 4)\n",
        "print(random_tensor_A)\n",
        "print(random_tensor_B)\n",
        "print(random_tensor_A == random_tensor_B)\n",
        "\n",
        "torch.rand(3, 3)"
      ]
    },
    {
      "cell_type": "code",
      "source": [
        "import torch\n",
        "\n",
        "RANDOM_SEED = 42\n",
        "torch.manual_seed(RANDOM_SEED)\n",
        "random_tensor_C = torch.rand(3, 4)\n",
        "\n",
        "torch.manual_seed(RANDOM_SEED)\n",
        "random_tensor_D = torch.rand(3, 4)\n",
        "\n",
        "print(random_tensor_C)\n",
        "print(random_tensor_D)\n",
        "print(random_tensor_C == random_tensor_D)"
      ],
      "metadata": {
        "colab": {
          "base_uri": "https://localhost:8080/"
        },
        "id": "cOf4eRZu_7_P",
        "outputId": "170d755e-a2e8-41cd-9493-8b6c83584ade"
      },
      "execution_count": 5,
      "outputs": [
        {
          "output_type": "stream",
          "name": "stdout",
          "text": [
            "tensor([[0.8823, 0.9150, 0.3829, 0.9593],\n",
            "        [0.3904, 0.6009, 0.2566, 0.7936],\n",
            "        [0.9408, 0.1332, 0.9346, 0.5936]])\n",
            "tensor([[0.8823, 0.9150, 0.3829, 0.9593],\n",
            "        [0.3904, 0.6009, 0.2566, 0.7936],\n",
            "        [0.9408, 0.1332, 0.9346, 0.5936]])\n",
            "tensor([[True, True, True, True],\n",
            "        [True, True, True, True],\n",
            "        [True, True, True, True]])\n"
          ]
        }
      ]
    },
    {
      "cell_type": "code",
      "source": [],
      "metadata": {
        "id": "NX7Ml_UeCgaJ"
      },
      "execution_count": null,
      "outputs": []
    }
  ],
  "metadata": {
    "colab": {
      "provenance": [],
      "authorship_tag": "ABX9TyOmBjl0nnuW+3RGMWceok8U",
      "include_colab_link": true
    },
    "kernelspec": {
      "display_name": "Python 3",
      "name": "python3"
    },
    "language_info": {
      "name": "python"
    }
  },
  "nbformat": 4,
  "nbformat_minor": 0
}